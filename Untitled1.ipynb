{
 "cells": [
  {
   "cell_type": "markdown",
   "id": "52da5224",
   "metadata": {},
   "source": [
    "**Author Name**\n",
    "*Ibrahim Khalid*"
   ]
  },
  {
   "cell_type": "markdown",
   "id": "4a00aed3",
   "metadata": {},
   "source": [
    "## ex 7\n",
    "#### exercise 4\n",
    "### math expression\n",
    "$ \\sqrt{3}+(5/2) $"
   ]
  },

  
  {
   "cell_type": "code",
   "execution_count": null,
   "id": "b154d351",
   "metadata": {},
   "outputs": [],
   "source": [
    "m=int(input())\n",
    "print(\"hours = \",m/60)\n",
    "\n"
   ]
  },
  {
   "cell_type": "markdown",
   "id": "7240c184",
   "metadata": {},
   "source": [
    "# introduction ex10\n",
    "### unorderedlist\n",
    "* sentence\n",
    "* sentence\n",
    "* sentence"
   ]
  }
 ],
 "metadata": {
  "kernelspec": {
   "display_name": "Python 3 (ipykernel)",
   "language": "python",
   "name": "python3"
  },
  "language_info": {
   "codemirror_mode": {
    "name": "ipython",
    "version": 3
   },
   "file_extension": ".py",
   "mimetype": "text/x-python",
   "name": "python",
   "nbconvert_exporter": "python",
   "pygments_lexer": "ipython3",
   "version": "3.11.4"
  }
 },
 "nbformat": 4,
 "nbformat_minor": 5
}
